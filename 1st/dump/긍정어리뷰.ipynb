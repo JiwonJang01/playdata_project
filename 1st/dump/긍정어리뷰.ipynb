{
 "cells": [
  {
   "cell_type": "code",
   "execution_count": 1,
   "id": "7882289f-f453-4db8-a7e6-e460ca90a4df",
   "metadata": {
    "scrolled": true,
    "tags": []
   },
   "outputs": [
    {
     "name": "stdout",
     "output_type": "stream",
     "text": [
      "Requirement already satisfied: konlpy in c:\\users\\fx567\\anaconda3\\lib\\site-packages (0.6.0)\n",
      "Requirement already satisfied: JPype1>=0.7.0 in c:\\users\\fx567\\anaconda3\\lib\\site-packages (from konlpy) (1.4.1)\n",
      "Requirement already satisfied: lxml>=4.1.0 in c:\\users\\fx567\\anaconda3\\lib\\site-packages (from konlpy) (4.9.3)\n",
      "Requirement already satisfied: numpy>=1.6 in c:\\users\\fx567\\anaconda3\\lib\\site-packages (from konlpy) (1.26.4)\n",
      "Requirement already satisfied: packaging in c:\\users\\fx567\\anaconda3\\lib\\site-packages (from JPype1>=0.7.0->konlpy) (23.1)\n",
      "Note: you may need to restart the kernel to use updated packages.\n"
     ]
    }
   ],
   "source": [
    "pip install konlpy"
   ]
  },
  {
   "cell_type": "code",
   "execution_count": 4,
   "id": "cfb922d4-3e06-4a2e-be24-2b8e7e1777bf",
   "metadata": {},
   "outputs": [
    {
     "name": "stdout",
     "output_type": "stream",
     "text": [
      "Requirement already satisfied: tweepy in c:\\users\\fx567\\anaconda3\\lib\\site-packages (4.14.0)\n",
      "Requirement already satisfied: oauthlib<4,>=3.2.0 in c:\\users\\fx567\\anaconda3\\lib\\site-packages (from tweepy) (3.2.2)\n",
      "Requirement already satisfied: requests<3,>=2.27.0 in c:\\users\\fx567\\anaconda3\\lib\\site-packages (from tweepy) (2.31.0)\n",
      "Requirement already satisfied: requests-oauthlib<2,>=1.2.0 in c:\\users\\fx567\\anaconda3\\lib\\site-packages (from tweepy) (1.4.0)\n",
      "Requirement already satisfied: charset-normalizer<4,>=2 in c:\\users\\fx567\\anaconda3\\lib\\site-packages (from requests<3,>=2.27.0->tweepy) (2.0.4)\n",
      "Requirement already satisfied: idna<4,>=2.5 in c:\\users\\fx567\\anaconda3\\lib\\site-packages (from requests<3,>=2.27.0->tweepy) (3.4)\n",
      "Requirement already satisfied: urllib3<3,>=1.21.1 in c:\\users\\fx567\\anaconda3\\lib\\site-packages (from requests<3,>=2.27.0->tweepy) (2.0.7)\n",
      "Requirement already satisfied: certifi>=2017.4.17 in c:\\users\\fx567\\anaconda3\\lib\\site-packages (from requests<3,>=2.27.0->tweepy) (2024.2.2)\n",
      "Note: you may need to restart the kernel to use updated packages.\n"
     ]
    }
   ],
   "source": [
    "pip install --upgrade tweepy"
   ]
  },
  {
   "cell_type": "code",
   "execution_count": 5,
   "id": "6fa76229-c015-4b3d-8898-6fe744e6b789",
   "metadata": {
    "tags": []
   },
   "outputs": [
    {
     "name": "stdout",
     "output_type": "stream",
     "text": [
      "Requirement already satisfied: konlpy==0.5.2 in c:\\users\\fx567\\anaconda3\\lib\\site-packages (0.5.2)\n",
      "Requirement already satisfied: jpype1 in c:\\users\\fx567\\anaconda3\\lib\\site-packages (1.4.1)\n",
      "Requirement already satisfied: Jpype1-py3 in c:\\users\\fx567\\anaconda3\\lib\\site-packages (0.5.5.4)\n",
      "Requirement already satisfied: beautifulsoup4==4.6.0 in c:\\users\\fx567\\anaconda3\\lib\\site-packages (from konlpy==0.5.2) (4.6.0)\n",
      "Requirement already satisfied: colorama in c:\\users\\fx567\\anaconda3\\lib\\site-packages (from konlpy==0.5.2) (0.4.6)\n",
      "Requirement already satisfied: lxml>=4.1.0 in c:\\users\\fx567\\anaconda3\\lib\\site-packages (from konlpy==0.5.2) (4.9.3)\n",
      "Requirement already satisfied: numpy>=1.6 in c:\\users\\fx567\\anaconda3\\lib\\site-packages (from konlpy==0.5.2) (1.26.4)\n",
      "Requirement already satisfied: tweepy>=3.7.0 in c:\\users\\fx567\\anaconda3\\lib\\site-packages (from konlpy==0.5.2) (4.14.0)\n",
      "Requirement already satisfied: packaging in c:\\users\\fx567\\anaconda3\\lib\\site-packages (from jpype1) (23.1)\n",
      "Requirement already satisfied: oauthlib<4,>=3.2.0 in c:\\users\\fx567\\anaconda3\\lib\\site-packages (from tweepy>=3.7.0->konlpy==0.5.2) (3.2.2)\n",
      "Requirement already satisfied: requests<3,>=2.27.0 in c:\\users\\fx567\\anaconda3\\lib\\site-packages (from tweepy>=3.7.0->konlpy==0.5.2) (2.31.0)\n",
      "Requirement already satisfied: requests-oauthlib<2,>=1.2.0 in c:\\users\\fx567\\anaconda3\\lib\\site-packages (from tweepy>=3.7.0->konlpy==0.5.2) (1.4.0)\n",
      "Requirement already satisfied: charset-normalizer<4,>=2 in c:\\users\\fx567\\anaconda3\\lib\\site-packages (from requests<3,>=2.27.0->tweepy>=3.7.0->konlpy==0.5.2) (2.0.4)\n",
      "Requirement already satisfied: idna<4,>=2.5 in c:\\users\\fx567\\anaconda3\\lib\\site-packages (from requests<3,>=2.27.0->tweepy>=3.7.0->konlpy==0.5.2) (3.4)\n",
      "Requirement already satisfied: urllib3<3,>=1.21.1 in c:\\users\\fx567\\anaconda3\\lib\\site-packages (from requests<3,>=2.27.0->tweepy>=3.7.0->konlpy==0.5.2) (2.0.7)\n",
      "Requirement already satisfied: certifi>=2017.4.17 in c:\\users\\fx567\\anaconda3\\lib\\site-packages (from requests<3,>=2.27.0->tweepy>=3.7.0->konlpy==0.5.2) (2024.2.2)\n"
     ]
    }
   ],
   "source": [
    "!pip install konlpy==0.5.2 jpype1 Jpype1-py3"
   ]
  },
  {
   "cell_type": "code",
   "execution_count": 6,
   "id": "f4ecd718-55a7-49e3-adb9-9628a73bd948",
   "metadata": {
    "tags": []
   },
   "outputs": [
    {
     "name": "stdout",
     "output_type": "stream",
     "text": [
      "Requirement already satisfied: jpype1-py3 in c:\\users\\fx567\\anaconda3\\lib\\site-packages (0.5.5.4)\n",
      "Note: you may need to restart the kernel to use updated packages.\n"
     ]
    }
   ],
   "source": [
    "pip install jpype1-py3"
   ]
  },
  {
   "cell_type": "code",
   "execution_count": 7,
   "id": "590eef17-ffd7-43ab-a7ca-f7956f3e1a9a",
   "metadata": {
    "tags": []
   },
   "outputs": [
    {
     "name": "stdout",
     "output_type": "stream",
     "text": [
      "Requirement already satisfied: konlpy in c:\\users\\fx567\\anaconda3\\lib\\site-packages (0.5.2)\n",
      "Collecting konlpy\n",
      "  Using cached konlpy-0.6.0-py2.py3-none-any.whl.metadata (1.9 kB)\n",
      "Requirement already satisfied: JPype1>=0.7.0 in c:\\users\\fx567\\anaconda3\\lib\\site-packages (from konlpy) (1.4.1)\n",
      "Requirement already satisfied: lxml>=4.1.0 in c:\\users\\fx567\\anaconda3\\lib\\site-packages (from konlpy) (4.9.3)\n",
      "Requirement already satisfied: numpy>=1.6 in c:\\users\\fx567\\anaconda3\\lib\\site-packages (from konlpy) (1.26.4)\n",
      "Requirement already satisfied: packaging in c:\\users\\fx567\\anaconda3\\lib\\site-packages (from JPype1>=0.7.0->konlpy) (23.1)\n",
      "Using cached konlpy-0.6.0-py2.py3-none-any.whl (19.4 MB)\n",
      "Installing collected packages: konlpy\n",
      "  Attempting uninstall: konlpy\n",
      "    Found existing installation: konlpy 0.5.2\n",
      "    Uninstalling konlpy-0.5.2:\n",
      "      Successfully uninstalled konlpy-0.5.2\n",
      "Successfully installed konlpy-0.6.0\n",
      "Note: you may need to restart the kernel to use updated packages.\n"
     ]
    }
   ],
   "source": [
    "pip install --upgrade konlpy"
   ]
  },
  {
   "cell_type": "code",
   "execution_count": 1,
   "id": "801db530-7a41-424c-b4aa-a6d2d92d2d0f",
   "metadata": {},
   "outputs": [],
   "source": [
    "%matplotlib inline\n",
    "\n",
    "import pandas as pd\n",
    "import numpy as np\n",
    "import matplotlib.pyplot as plt\n",
    "import seaborn as sns\n",
    "from konlpy.tag import Okt\n",
    "from collections import Counter\n",
    "from konlpy.tag import Kkma\n",
    "import re\n",
    "import random\n",
    "import warnings\n",
    "warnings.filterwarnings('ignore')"
   ]
  },
  {
   "cell_type": "code",
   "execution_count": 2,
   "id": "311da5ed-11f0-46cf-8c20-12492a059686",
   "metadata": {
    "tags": []
   },
   "outputs": [],
   "source": [
    "df = pd.read_csv('all_reviews_filtered_utf8.csv')"
   ]
  },
  {
   "cell_type": "code",
   "execution_count": 3,
   "id": "526199ad-36ba-4ffc-9fb8-477eddc93425",
   "metadata": {
    "scrolled": true,
    "tags": []
   },
   "outputs": [
    {
     "data": {
      "text/html": [
       "<div>\n",
       "<style scoped>\n",
       "    .dataframe tbody tr th:only-of-type {\n",
       "        vertical-align: middle;\n",
       "    }\n",
       "\n",
       "    .dataframe tbody tr th {\n",
       "        vertical-align: top;\n",
       "    }\n",
       "\n",
       "    .dataframe thead th {\n",
       "        text-align: right;\n",
       "    }\n",
       "</style>\n",
       "<table border=\"1\" class=\"dataframe\">\n",
       "  <thead>\n",
       "    <tr style=\"text-align: right;\">\n",
       "      <th></th>\n",
       "      <th>isbn</th>\n",
       "      <th>title</th>\n",
       "      <th>review_score</th>\n",
       "      <th>review_like_count</th>\n",
       "      <th>comment</th>\n",
       "      <th>review_id</th>\n",
       "      <th>reviewer</th>\n",
       "    </tr>\n",
       "  </thead>\n",
       "  <tbody>\n",
       "    <tr>\n",
       "      <th>0</th>\n",
       "      <td>9.791190e+12</td>\n",
       "      <td>1cm 다이빙</td>\n",
       "      <td>10</td>\n",
       "      <td>62</td>\n",
       "      <td>나 자신이 행복한 법에 대해 고민해 볼 수 있는 책이었습니다.\\r\\n책을 읽고 행복...</td>\n",
       "      <td>5415919_2</td>\n",
       "      <td>NaN</td>\n",
       "    </tr>\n",
       "    <tr>\n",
       "      <th>1</th>\n",
       "      <td>9.791190e+12</td>\n",
       "      <td>1cm 다이빙</td>\n",
       "      <td>10</td>\n",
       "      <td>60</td>\n",
       "      <td>글귀가 마음에 와 닿아요</td>\n",
       "      <td>5416113_2</td>\n",
       "      <td>NaN</td>\n",
       "    </tr>\n",
       "    <tr>\n",
       "      <th>2</th>\n",
       "      <td>9.791190e+12</td>\n",
       "      <td>1cm 다이빙</td>\n",
       "      <td>10</td>\n",
       "      <td>58</td>\n",
       "      <td>나름 젊은이가 쓴 나름 조숙한 이야기  \\r\\n가볍게 읽다 울뻔?  울었다</td>\n",
       "      <td>5416037_2</td>\n",
       "      <td>NaN</td>\n",
       "    </tr>\n",
       "    <tr>\n",
       "      <th>3</th>\n",
       "      <td>9.791190e+12</td>\n",
       "      <td>1cm 다이빙</td>\n",
       "      <td>10</td>\n",
       "      <td>56</td>\n",
       "      <td>배송받고 하루만에 다읽었어요 매우공감되고 와닿는말이 많았어요 읽고나니 위로가되는책이...</td>\n",
       "      <td>5416101_2</td>\n",
       "      <td>NaN</td>\n",
       "    </tr>\n",
       "    <tr>\n",
       "      <th>4</th>\n",
       "      <td>9.791190e+12</td>\n",
       "      <td>1cm 다이빙</td>\n",
       "      <td>10</td>\n",
       "      <td>55</td>\n",
       "      <td>잘읽혀서 한번에읽었어요.  두고두고 복잡할때 읽을까해요</td>\n",
       "      <td>5416004_2</td>\n",
       "      <td>NaN</td>\n",
       "    </tr>\n",
       "  </tbody>\n",
       "</table>\n",
       "</div>"
      ],
      "text/plain": [
       "           isbn    title  review_score  review_like_count  \\\n",
       "0  9.791190e+12  1cm 다이빙            10                 62   \n",
       "1  9.791190e+12  1cm 다이빙            10                 60   \n",
       "2  9.791190e+12  1cm 다이빙            10                 58   \n",
       "3  9.791190e+12  1cm 다이빙            10                 56   \n",
       "4  9.791190e+12  1cm 다이빙            10                 55   \n",
       "\n",
       "                                             comment  review_id reviewer  \n",
       "0  나 자신이 행복한 법에 대해 고민해 볼 수 있는 책이었습니다.\\r\\n책을 읽고 행복...  5415919_2      NaN  \n",
       "1                                      글귀가 마음에 와 닿아요  5416113_2      NaN  \n",
       "2          나름 젊은이가 쓴 나름 조숙한 이야기  \\r\\n가볍게 읽다 울뻔?  울었다  5416037_2      NaN  \n",
       "3  배송받고 하루만에 다읽었어요 매우공감되고 와닿는말이 많았어요 읽고나니 위로가되는책이...  5416101_2      NaN  \n",
       "4                     잘읽혀서 한번에읽었어요.  두고두고 복잡할때 읽을까해요  5416004_2      NaN  "
      ]
     },
     "execution_count": 3,
     "metadata": {},
     "output_type": "execute_result"
    }
   ],
   "source": [
    "df.head()"
   ]
  },
  {
   "cell_type": "code",
   "execution_count": 4,
   "id": "efaae601-3e62-41bb-b8df-2d172d337407",
   "metadata": {
    "scrolled": true,
    "tags": []
   },
   "outputs": [
    {
     "data": {
      "text/plain": [
       "(161872, 7)"
      ]
     },
     "execution_count": 4,
     "metadata": {},
     "output_type": "execute_result"
    }
   ],
   "source": [
    "df.shape"
   ]
  },
  {
   "cell_type": "code",
   "execution_count": 5,
   "id": "9e8b980e-2a03-431d-ac5c-c0118ffbb272",
   "metadata": {
    "tags": []
   },
   "outputs": [
    {
     "data": {
      "text/plain": [
       "isbn                   449\n",
       "title                    0\n",
       "review_score             0\n",
       "review_like_count        0\n",
       "comment                424\n",
       "review_id                0\n",
       "reviewer             56567\n",
       "dtype: int64"
      ]
     },
     "execution_count": 5,
     "metadata": {},
     "output_type": "execute_result"
    }
   ],
   "source": [
    "df.isnull().sum()"
   ]
  },
  {
   "cell_type": "code",
   "execution_count": 6,
   "id": "68fe43ea-e791-4d36-a03c-3c71d265d08c",
   "metadata": {
    "tags": []
   },
   "outputs": [
    {
     "data": {
      "text/plain": [
       "isbn                 0\n",
       "title                0\n",
       "review_score         0\n",
       "review_like_count    0\n",
       "comment              0\n",
       "review_id            0\n",
       "reviewer             0\n",
       "dtype: int64"
      ]
     },
     "execution_count": 6,
     "metadata": {},
     "output_type": "execute_result"
    }
   ],
   "source": [
    "# null 값을 삭제한 후 새로운 데이터프레임 생성\n",
    "df_cleaned = df.dropna()\n",
    "df = df_cleaned\n",
    "df.isnull().sum()"
   ]
  },
  {
   "cell_type": "code",
   "execution_count": 7,
   "id": "cb5e0b63-17da-490b-841f-29ff3faf8d90",
   "metadata": {
    "tags": []
   },
   "outputs": [
    {
     "name": "stdout",
     "output_type": "stream",
     "text": [
      "<class 'pandas.core.frame.DataFrame'>\n",
      "Index: 104702 entries, 56554 to 161871\n",
      "Data columns (total 7 columns):\n",
      " #   Column             Non-Null Count   Dtype  \n",
      "---  ------             --------------   -----  \n",
      " 0   isbn               104702 non-null  float64\n",
      " 1   title              104702 non-null  object \n",
      " 2   review_score       104702 non-null  int64  \n",
      " 3   review_like_count  104702 non-null  int64  \n",
      " 4   comment            104702 non-null  object \n",
      " 5   review_id          104702 non-null  object \n",
      " 6   reviewer           104702 non-null  object \n",
      "dtypes: float64(1), int64(2), object(4)\n",
      "memory usage: 6.4+ MB\n"
     ]
    }
   ],
   "source": [
    "# null 값 확인\n",
    "df.info()"
   ]
  },
  {
   "cell_type": "code",
   "execution_count": 8,
   "id": "0379c763-0e56-463f-8699-db0ca9a9549b",
   "metadata": {},
   "outputs": [],
   "source": [
    "def apply_regular_expression(text):\n",
    "    hangul = re.compile('[^ ㄱ-ㅣ 가-힣]')  # 한글 추출 규칙: 띄어 쓰기(1 개)를 포함한 한글\n",
    "    result = hangul.sub('', text)  # 위에 설정한 \"hangul\"규칙을 \"text\"에 적용(.sub)시킴\n",
    "    return result"
   ]
  },
  {
   "cell_type": "code",
   "execution_count": 9,
   "id": "8e7746e4-c288-4444-b4dc-925f7937ac7d",
   "metadata": {
    "tags": []
   },
   "outputs": [
    {
     "name": "stdout",
     "output_type": "stream",
     "text": [
      "[('대해', 872), ('고민', 348), ('동안', 214), ('도서', 209), ('조금', 455), ('자신', 581), ('예전', 108), ('대화', 121), ('방법', 336), ('생각', 3259), ('방식', 125), ('세계', 244), ('제일', 139), ('사람', 1980), ('성공', 102), ('하나', 700), ('무조건', 129), ('상황', 197), ('경험', 246), ('통해', 485), ('소설', 1623), ('도움', 709), ('혼자', 322), ('최고', 610), ('바로', 389), ('공감', 720), ('선물', 481), ('지금', 635), ('내용', 1517), ('더욱', 209), ('제시', 104), ('다시', 1016), ('한번', 746), ('평소', 179), ('가지', 380), ('추천', 1027), ('설명', 414), ('저자', 435), ('다른', 593), ('주제', 124), ('시각', 149), ('때문', 487), ('가장', 566), ('문제', 401), ('지혜', 106), ('거의', 119), ('대통령', 158), ('하루', 234), ('보고', 1128), ('재미', 473), ('편집', 101), ('마지막', 340), ('선택', 312), ('모든', 362), ('역시', 654), ('구매', 1071), ('완전', 173), ('우리', 1106), ('모두', 408), ('실천', 171), ('이해', 558), ('누구', 312), ('얘기', 237), ('이야기', 2214), ('부분', 598), ('정보', 189), ('대한', 1151), ('시선', 176), ('오늘', 189), ('벌써', 116), ('기대', 1181), ('노력', 196), ('인생', 833), ('모습', 340), ('지식', 155), ('무슨', 125), ('관심', 352), ('뭔가', 195), ('관련', 134), ('진짜', 465), ('어디', 120), ('정리', 289), ('기분', 305), ('누군가', 117), ('발견', 126), ('여러', 141), ('실제', 131), ('개인', 299), ('정말', 1493), ('위해', 461), ('사회', 528), ('생활', 173), ('소개', 169), ('기억', 348), ('이제', 334), ('서로', 137), ('요즘', 381), ('서점', 128), ('무엇', 443), ('시대', 481), ('또한', 199), ('웹툰', 141), ('항상', 374), ('도서관', 103), ('만화', 289), ('경제', 174), ('작가', 2326), ('필요', 125), ('과연', 107), ('진실', 142), ('현실', 513), ('내내', 199), ('다음', 266), ('영화', 440), ('우리나라', 139), ('라면', 313), ('드라마', 176), ('인간', 409), ('로서', 142), ('여기', 133), ('정도', 507), ('이건', 133), ('한국', 539), ('소장', 190), ('그냥', 447), ('가슴', 388), ('소재', 151), ('집중', 207), ('아들', 175), ('깊이', 228), ('현재', 228), ('작품', 864), ('단숨', 103), ('이기', 149), ('아주', 305), ('계속', 378), ('얼마나', 255), ('시작', 520), ('시절', 125), ('주인공', 238), ('마음', 1656), ('표현', 363), ('공부', 935), ('세상', 510), ('변화', 146), ('다만', 119), ('올해', 370), ('먼저', 145), ('한국사', 134), ('국민', 130), ('매우', 215), ('가치', 194), ('구입', 494), ('감동', 557), ('사실', 334), ('제목', 628), ('그것', 229), ('인물', 187), ('대사', 131), ('묘사', 171), ('의미', 316), ('필독', 102), ('매력', 267), ('수도', 111), ('그림', 495), ('보기', 181), ('배송', 190), ('만큼', 126), ('흡입', 120), ('희망', 212), ('언제', 172), ('행복', 242), ('일단', 181), ('감정', 311), ('직접', 144), ('대한민국', 216), ('해도', 105), ('문학', 162), ('순간', 314), ('용기', 467), ('나라', 163), ('존재', 242), ('주변', 168), ('눈물', 269), ('처음', 560), ('응원', 280), ('스스로', 137), ('제대로', 176), ('독자', 262), ('철학', 179), ('통찰', 147), ('최근', 124), ('이유', 415), ('과정', 131), ('영상', 114), ('보지', 117), ('시간', 735), ('나이', 190), ('계기', 136), ('이후', 126), ('몰입', 219), ('흥미진진', 181), ('이상', 191), ('스토리', 308), ('과거', 116), ('머리', 145), ('자체', 206), ('사고', 134), ('흐름', 106), ('당신', 154), ('사건', 182), ('그대로', 137), ('인상', 206), ('분야', 108), ('이번', 465), ('전쟁', 253), ('죽음', 221), ('여자', 242), ('남자', 173), ('아이', 1184), ('그녀', 212), ('느낌', 811), ('독서', 169), ('여성', 330), ('사랑', 752), ('문장', 475), ('역사', 668), ('별로', 217), ('표지', 362), ('단어', 168), ('기도', 174), ('관점', 130), ('번역', 228), ('영어', 252), ('여운', 147), ('전작', 104), ('행동', 154), ('구성', 275), ('전혀', 106), ('위로', 349), ('이름', 207), ('무척', 123), ('반복', 142), ('페이지', 238), ('에세이', 213), ('알라딘', 115), ('선생님', 261), ('고전', 153), ('할머니', 170), ('기회', 123), ('감성', 203), ('중간', 173), ('흥미', 177), ('반전', 274), ('친구', 281), ('힐링', 136), ('문구', 277), ('교수', 196), ('말씀', 109), ('상상력', 122), ('사서', 141), ('시집', 122), ('책장', 119), ('강의', 244), ('덕분', 127), ('습관', 174), ('도전', 134), ('감사', 114), ('거리', 144), ('엄마', 364), ('자주', 106), ('일상', 302), ('주문', 299), ('용이', 134), ('후회', 128), ('도시', 118), ('사진', 104), ('미래', 213), ('어른', 174), ('가족', 215), ('한비야', 203), ('자기', 262), ('신작', 108), ('실망', 190), ('신간', 143), ('여행', 453), ('긍정', 107), ('상상', 129), ('존경', 176), ('문체', 133), ('준비', 165), ('자기계발', 128), ('기본', 143), ('시리즈', 362), ('아버지', 133), ('수준', 101), ('베스트셀러', 147), ('편이', 106), ('술술', 184), ('그림책', 119), ('전개', 206), ('결말', 175), ('리뷰', 115), ('스님', 101), ('매일', 145), ('예약', 144), ('가격', 114), ('부모', 111), ('해커스', 131), ('토익', 408), ('추리소설', 167), ('트렌드', 243), ('태도', 139), ('캐릭터', 138), ('유튜브', 171), ('한자', 110), ('경제학', 139), ('일본', 143), ('음식', 106), ('과학', 215), ('투자', 143), ('김영하', 202), ('개인주의', 116), ('기욤', 273), ('뮈소', 173), ('단편', 162), ('부자', 126), ('스티븐', 171), ('부동산', 103), ('유시민', 160), ('요리', 141), ('스무살', 133), ('건강', 110), ('김연수', 118), ('하루키', 114), ('본집', 111), ('남매', 127), ('펭수', 148), ('김지영', 135), ('오프라', 166), ('윈프리', 148)]\n"
     ]
    }
   ],
   "source": [
    "# 긍정적인 리뷰 리스트\n",
    "# 새로운 데이터프레임을 저장할 리스트 생성\n",
    "positive_rows = []\n",
    "\n",
    "# 주어진 범위 내에서 루프를 돌면서 조건을 만족하는 행을 추출하여 리스트에 추가\n",
    "for num in range(56554, 100702):\n",
    "    if num in df.index and df['review_score'][num] == 10:\n",
    "        row = df.iloc[num].copy()  # 해당 행을 복사하여 수정\n",
    "        row['comment'] = apply_regular_expression(row['comment'])  # 텍스트 데이터 정제 적용\n",
    "        positive_rows.append(row)\n",
    "\n",
    "# 새로운 데이터프레임 생성\n",
    "positive_df = pd.DataFrame(positive_rows)\n",
    "\n",
    "corpus = \"\".join(positive_df['comment'].tolist())\n",
    "corpus = apply_regular_expression(corpus)\n",
    "\n",
    "okt = Okt()  # Okt 객체 생성\n",
    "\n",
    "# 모든 명사 형태소 추출\n",
    "nouns = okt.nouns(corpus)\n",
    "# 명사 형태소 빈도 계산\n",
    "counter = Counter(nouns)\n",
    "# 한글자로 이루어진 단어와 출현 빈도가 5회 이하인 단어들 삭제\n",
    "available_counter = {x: counter[x] for x in counter if len(x) > 1 and counter[x] > 100}\n",
    "\n",
    "# Counter 객체를 리스트로 변환\n",
    "positive_list = list(available_counter.items())\n",
    "print(positive_list)\n"
   ]
  },
  {
   "cell_type": "code",
   "execution_count": 10,
   "id": "2d28c874-266d-4f4c-bfee-b538acc08597",
   "metadata": {},
   "outputs": [],
   "source": [
    "# 불용어 사전\n",
    "stopwords = pd.read_csv(\"https://raw.githubusercontent.com/yoonkt200/FastCampusDataset/master/korean_stopwords.txt\").values.tolist()\n",
    "# 불용어 사전\n",
    "review_stopwords = ['별로', '실망']\n",
    "for word in review_stopwords:\n",
    "    stopwords.append(word)"
   ]
  },
  {
   "cell_type": "code",
   "execution_count": 23,
   "id": "4e5de0b9-befb-4906-8f8f-4b619547b790",
   "metadata": {},
   "outputs": [
    {
     "name": "stdin",
     "output_type": "stream",
     "text": [
      "원하는 키워드를 입력하고 엔터를 눌러주세요:  남매\n"
     ]
    },
    {
     "name": "stdout",
     "output_type": "stream",
     "text": [
      "           isbn                 title  \\\n",
      "0  9.788935e+12    흔한남매 과학 탐험대 1 : 우주   \n",
      "1  9.791164e+12                흔한남매 1   \n",
      "2  9.791131e+12      흔한남매 불꽃 튀는 우리말 1   \n",
      "3  9.788935e+12  흔한남매 과학 탐험대 5 : 물리 1   \n",
      "4  9.791168e+12              흔한남매 오해요   \n",
      "5  9.791164e+12                흔한남매 1   \n",
      "6  9.791164e+12                흔한남매 7   \n",
      "7  9.791131e+12      흔한남매 불꽃 튀는 우리말 1   \n",
      "8  9.788935e+12    흔한남매 과학 탐험대 4 : 물질   \n",
      "9  9.791168e+12        흔한남매의 흔한 호기심 8   \n",
      "\n",
      "                                              author  review_score  \\\n",
      "0  흔한남매 (원작), 이재국, 이현진 (글), 김덕영 (그림), 흔한컴퍼니 (감수),...            10   \n",
      "1     흔한남매 (지은이), 백난도 (글), 유난희 (그림), 샌드박스 네트워크 (감수)             10   \n",
      "2        한은호 (지은이), 흔한남매 (원작), 유희석 (그림), 흔한컴퍼니 (감수)             10   \n",
      "3  흔한남매 (원작), 이현진, 닥터 스코 (글), 김덕영 (그림), 김희목 (감수),...            10   \n",
      "4                                               흔한남매            10   \n",
      "5     흔한남매 (지은이), 백난도 (글), 유난희 (그림), 샌드박스 네트워크 (감수)             10   \n",
      "6         흔한남매 (지은이), 백난도 (글), 유난희 (그림), 흔한컴퍼니 (감수)             10   \n",
      "7        한은호 (지은이), 흔한남매 (원작), 유희석 (그림), 흔한컴퍼니 (감수)             10   \n",
      "8  흔한남매 (원작), 이현진, 닥터 스코 (글), 김덕영 (그림), 최진수 (감수),...             8   \n",
      "9                                               흔한남매            10   \n",
      "\n",
      "                                             comment  \n",
      "0  흔한남매과학탐험대 우주주니어김영사과학 교과서를 통째로 넣은 초등 과학 입문서의 결정...  \n",
      "1  땅끝 해남에 사는 초등학생 딸아이의 아빠입니다매일처럼 흔한남매의 동영상을 깔깔깔 웃...  \n",
      "2                             흔한남매책을 너무 좋아합니다 2권도 구매  \n",
      "3  과학 교과서를 통째로 넣은 초등 과학 입문서의 결정판흔한 남매 과학 탐험대 물리 과...  \n",
      "4                                      흔한남매는 항상 즐거워요  \n",
      "5  본 리뷰는 출판사 경품 이벤트 응모용으로 작성하였습니다냐하 난 아이돌이 될 운명인가...  \n",
      "6                  흔한남매의 재미를 알게된 조카에게 선물해주었더니 좋아하네요.  \n",
      "7  8살 아들이 푹 빠져있는 흔한남매 시리즈. 고사성어랑 속담이 재미있다네요. \\r\\n...  \n",
      "8                 아이들은 흔한 남매라면 일단 읽어보려고 하니 권하기에 좋습니다  \n",
      "9                              흔한남매 너무 좋아해서 책도 잘 읽어요  \n"
     ]
    }
   ],
   "source": [
    "# CSV 파일을 읽어와 데이터프레임으로 변환\n",
    "df_info = pd.read_csv(\"merged_df.csv\", encoding='utf-8')\n",
    "# ISBN을 기준으로 중복된 행 중 첫 번째 행만 남기고 나머지는 삭제\n",
    "df_info.drop_duplicates(subset=['isbn'], keep='first', inplace=True)\n",
    "\n",
    "# CSV 파일 읽기\n",
    "df = pd.read_csv('all_reviews_filtered_utf8.csv')\n",
    "\n",
    "# NaN 값이 있는 행 제거\n",
    "df = df.dropna(subset=['comment'])\n",
    "\n",
    "keyword = input(\"원하는 키워드를 입력하고 엔터를 눌러주세요: \")\n",
    "\n",
    "# 키워드가 positive_list에 있는지 확인\n",
    "if keyword in available_counter:\n",
    "    # 키워드가 comment 열에 포함된 행을 필터링하여 선택\n",
    "    filtered_df = df[df['comment'].str.contains(keyword, na=False)]\n",
    "\n",
    "    if not filtered_df.empty:\n",
    "        # 필터링된 행 중 랜덤으로 100개의 행 선택\n",
    "        random_sample = filtered_df.sample(n=100, random_state=42)\n",
    "        # 리뷰 점수가 7 이상인 행을 추림\n",
    "        positive_reviews = random_sample[random_sample['review_score'] >= 7].head(10)\n",
    "        # 작가 정보 추가\n",
    "        positive_reviews = pd.merge(positive_reviews, df_info[['isbn', 'author']], on='isbn', how='left')\n",
    "        # positive_reviews 출력\n",
    "        print(positive_reviews[['isbn', 'title', 'author', 'review_score', 'comment']])\n",
    "        \n",
    "    else:\n",
    "        print(\"해당 키워드가 포함된 리뷰가 없습니다.\")\n",
    "else:\n",
    "    print(\"해당 키워드로 찾을 수 있는 긍정적인 리뷰가 없습니다.\")\n"
   ]
  },
  {
   "cell_type": "code",
   "execution_count": null,
   "id": "14f9a782-7c64-4340-a823-fa66795a9592",
   "metadata": {},
   "outputs": [],
   "source": []
  },
  {
   "cell_type": "code",
   "execution_count": null,
   "id": "aa653191-1919-439c-a213-0e45a860da98",
   "metadata": {},
   "outputs": [],
   "source": []
  }
 ],
 "metadata": {
  "kernelspec": {
   "display_name": "Python 3 (ipykernel)",
   "language": "python",
   "name": "python3"
  },
  "language_info": {
   "codemirror_mode": {
    "name": "ipython",
    "version": 3
   },
   "file_extension": ".py",
   "mimetype": "text/x-python",
   "name": "python",
   "nbconvert_exporter": "python",
   "pygments_lexer": "ipython3",
   "version": "3.11.5"
  }
 },
 "nbformat": 4,
 "nbformat_minor": 5
}
