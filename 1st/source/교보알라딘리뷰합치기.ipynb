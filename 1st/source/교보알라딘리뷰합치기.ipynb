{
 "cells": [
  {
   "cell_type": "code",
   "execution_count": 17,
   "id": "b5500d4f-e040-4321-abe6-b50e66c80f47",
   "metadata": {
    "tags": []
   },
   "outputs": [],
   "source": [
    "from bs4 import BeautifulSoup\n",
    "from selenium import webdriver\n",
    "import requests\n",
    "import json\n",
    "from selenium import webdriver\n",
    "import time\n",
    "import csv\n",
    "import pandas as pd"
   ]
  },
  {
   "cell_type": "code",
   "execution_count": 49,
   "id": "57532730-c1a6-4f8a-9ec4-ecdfb641d84f",
   "metadata": {
    "tags": []
   },
   "outputs": [],
   "source": [
    "#중복제거\n",
    "# csv 파일 불러오기\n",
    "df_A = pd.read_csv(\"C:\\\\python\\\\aladin_review.csv\") # 'your_file.csv'를 실제 파일 경로와 이름으로 바꿔주세요.\n",
    "df_B = pd.read_csv('null_utf8_2.csv')"
   ]
  },
  {
   "cell_type": "code",
   "execution_count": 50,
   "id": "3b8057ee-9f19-4d5e-a642-7b4e1c623e77",
   "metadata": {
    "tags": []
   },
   "outputs": [
    {
     "data": {
      "text/plain": [
       "(56409, 7)"
      ]
     },
     "execution_count": 50,
     "metadata": {},
     "output_type": "execute_result"
    }
   ],
   "source": [
    "df_B.shape"
   ]
  },
  {
   "cell_type": "code",
   "execution_count": 51,
   "id": "a1716494-b7db-4787-ab18-221007e0c349",
   "metadata": {
    "tags": []
   },
   "outputs": [
    {
     "ename": "TypeError",
     "evalue": "DataFrame.drop_duplicates() got an unexpected keyword argument 'encoding'",
     "output_type": "error",
     "traceback": [
      "\u001b[1;31m---------------------------------------------------------------------------\u001b[0m",
      "\u001b[1;31mTypeError\u001b[0m                                 Traceback (most recent call last)",
      "Cell \u001b[1;32mIn[51], line 1\u001b[0m\n\u001b[1;32m----> 1\u001b[0m df_B \u001b[38;5;241m=\u001b[39m df_B\u001b[38;5;241m.\u001b[39mdrop_duplicates(subset\u001b[38;5;241m=\u001b[39m[\u001b[38;5;124m'\u001b[39m\u001b[38;5;124mrevwNum\u001b[39m\u001b[38;5;124m'\u001b[39m], keep\u001b[38;5;241m=\u001b[39m\u001b[38;5;124m'\u001b[39m\u001b[38;5;124mfirst\u001b[39m\u001b[38;5;124m'\u001b[39m, encoding \u001b[38;5;241m=\u001b[39m \u001b[38;5;124m'\u001b[39m\u001b[38;5;124mutf-8\u001b[39m\u001b[38;5;124m'\u001b[39m, inplace\u001b[38;5;241m=\u001b[39m\u001b[38;5;28;01mTrue\u001b[39;00m)\n",
      "\u001b[1;31mTypeError\u001b[0m: DataFrame.drop_duplicates() got an unexpected keyword argument 'encoding'"
     ]
    }
   ],
   "source": [
    "df_B = df_B.drop_duplicates(subset=['revwNum'], keep='first', encoding = 'utf-8', inplace=True)"
   ]
  },
  {
   "cell_type": "code",
   "execution_count": 52,
   "id": "1bdcfd53-55f6-404a-b366-9d03d65417e9",
   "metadata": {
    "tags": []
   },
   "outputs": [
    {
     "data": {
      "text/plain": [
       "(56409, 7)"
      ]
     },
     "execution_count": 52,
     "metadata": {},
     "output_type": "execute_result"
    }
   ],
   "source": [
    "df_B.shape"
   ]
  },
  {
   "cell_type": "code",
   "execution_count": 53,
   "id": "017ebac6-5f39-4af2-920c-6926020ccbb4",
   "metadata": {
    "tags": []
   },
   "outputs": [
    {
     "name": "stdout",
     "output_type": "stream",
     "text": [
      "Index(['isbn', 'title', 'review_rating', 'review_like_count', 'review_comment',\n",
      "       'paper_id'],\n",
      "      dtype='object')\n",
      "Index(['ISBN', 'saleCmdtid', 'cmdtName', 'revwNum', 'revwCntt', 'revwScore',\n",
      "       'reviewRecommendCount'],\n",
      "      dtype='object')\n"
     ]
    }
   ],
   "source": [
    "print(df_A.columns)\n",
    "print(df_B.columns)"
   ]
  },
  {
   "cell_type": "code",
   "execution_count": 54,
   "id": "d93225b4-bbe7-4592-888e-fa75cc6437c2",
   "metadata": {
    "tags": []
   },
   "outputs": [
    {
     "ename": "NameError",
     "evalue": "name 'reviews_all_list' is not defined",
     "output_type": "error",
     "traceback": [
      "\u001b[1;31m---------------------------------------------------------------------------\u001b[0m",
      "\u001b[1;31mNameError\u001b[0m                                 Traceback (most recent call last)",
      "Cell \u001b[1;32mIn[54], line 1\u001b[0m\n\u001b[1;32m----> 1\u001b[0m reviews_all_list\u001b[38;5;241m.\u001b[39mrename(columns\u001b[38;5;241m=\u001b[39m{\u001b[38;5;124m'\u001b[39m\u001b[38;5;124mcleaned_review_comment\u001b[39m\u001b[38;5;124m'\u001b[39m: \u001b[38;5;124m'\u001b[39m\u001b[38;5;124mreview_comment\u001b[39m\u001b[38;5;124m'\u001b[39m}, inplace\u001b[38;5;241m=\u001b[39m\u001b[38;5;28;01mTrue\u001b[39;00m)\n",
      "\u001b[1;31mNameError\u001b[0m: name 'reviews_all_list' is not defined"
     ]
    }
   ],
   "source": [
    "reviews_all_list.rename(columns={'cleaned_review_comment': 'review_comment'}, inplace=True)"
   ]
  },
  {
   "cell_type": "code",
   "execution_count": 55,
   "id": "a45fa549-1b40-4bbb-b43f-d067b759fd86",
   "metadata": {
    "tags": []
   },
   "outputs": [],
   "source": [
    "#new_column_names2 = ['review_id','review_like_count','isbn', 'scnid','title','comment','review_score']"
   ]
  },
  {
   "cell_type": "code",
   "execution_count": 56,
   "id": "935f66aa-3083-44fb-b04f-d9b77ee02b55",
   "metadata": {
    "tags": []
   },
   "outputs": [],
   "source": [
    "new_column_names2 = ['isbn', 'saleCmdtid', 'title', 'review_id', 'comment','review_score','review_like_count'  ]"
   ]
  },
  {
   "cell_type": "code",
   "execution_count": 57,
   "id": "bd61731b-9b08-4e39-9f66-174cd0cb5f61",
   "metadata": {
    "tags": []
   },
   "outputs": [],
   "source": [
    "df_B.columns = new_column_names2"
   ]
  },
  {
   "cell_type": "code",
   "execution_count": 58,
   "id": "0668edfa-e80a-4f99-b66b-569de29e196c",
   "metadata": {
    "tags": []
   },
   "outputs": [
    {
     "data": {
      "text/html": [
       "<div>\n",
       "<style scoped>\n",
       "    .dataframe tbody tr th:only-of-type {\n",
       "        vertical-align: middle;\n",
       "    }\n",
       "\n",
       "    .dataframe tbody tr th {\n",
       "        vertical-align: top;\n",
       "    }\n",
       "\n",
       "    .dataframe thead th {\n",
       "        text-align: right;\n",
       "    }\n",
       "</style>\n",
       "<table border=\"1\" class=\"dataframe\">\n",
       "  <thead>\n",
       "    <tr style=\"text-align: right;\">\n",
       "      <th></th>\n",
       "      <th>isbn</th>\n",
       "      <th>saleCmdtid</th>\n",
       "      <th>title</th>\n",
       "      <th>review_id</th>\n",
       "      <th>comment</th>\n",
       "      <th>review_score</th>\n",
       "      <th>review_like_count</th>\n",
       "    </tr>\n",
       "  </thead>\n",
       "  <tbody>\n",
       "    <tr>\n",
       "      <th>0</th>\n",
       "      <td>9.791190e+12</td>\n",
       "      <td>S000001938499</td>\n",
       "      <td>1cm 다이빙</td>\n",
       "      <td>5415919</td>\n",
       "      <td>나 자신이 행복한 법에 대해 고민해 볼 수 있는 책이었습니다.\\r\\n책을 읽고 행복...</td>\n",
       "      <td>10</td>\n",
       "      <td>62</td>\n",
       "    </tr>\n",
       "    <tr>\n",
       "      <th>1</th>\n",
       "      <td>9.791190e+12</td>\n",
       "      <td>S000001938499</td>\n",
       "      <td>1cm 다이빙</td>\n",
       "      <td>5416113</td>\n",
       "      <td>글귀가 마음에 와 닿아요</td>\n",
       "      <td>10</td>\n",
       "      <td>60</td>\n",
       "    </tr>\n",
       "    <tr>\n",
       "      <th>2</th>\n",
       "      <td>9.791190e+12</td>\n",
       "      <td>S000001938499</td>\n",
       "      <td>1cm 다이빙</td>\n",
       "      <td>5416037</td>\n",
       "      <td>나름 젊은이가 쓴 나름 조숙한 이야기  \\r\\n가볍게 읽다 울뻔?  울었다</td>\n",
       "      <td>10</td>\n",
       "      <td>58</td>\n",
       "    </tr>\n",
       "    <tr>\n",
       "      <th>3</th>\n",
       "      <td>9.791190e+12</td>\n",
       "      <td>S000001938499</td>\n",
       "      <td>1cm 다이빙</td>\n",
       "      <td>5416101</td>\n",
       "      <td>배송받고 하루만에 다읽었어요 매우공감되고 와닿는말이 많았어요 읽고나니 위로가되는책이...</td>\n",
       "      <td>10</td>\n",
       "      <td>56</td>\n",
       "    </tr>\n",
       "    <tr>\n",
       "      <th>4</th>\n",
       "      <td>9.791190e+12</td>\n",
       "      <td>S000001938499</td>\n",
       "      <td>1cm 다이빙</td>\n",
       "      <td>5416004</td>\n",
       "      <td>잘읽혀서 한번에읽었어요.  두고두고 복잡할때 읽을까해요</td>\n",
       "      <td>10</td>\n",
       "      <td>55</td>\n",
       "    </tr>\n",
       "  </tbody>\n",
       "</table>\n",
       "</div>"
      ],
      "text/plain": [
       "           isbn     saleCmdtid    title  review_id  \\\n",
       "0  9.791190e+12  S000001938499  1cm 다이빙    5415919   \n",
       "1  9.791190e+12  S000001938499  1cm 다이빙    5416113   \n",
       "2  9.791190e+12  S000001938499  1cm 다이빙    5416037   \n",
       "3  9.791190e+12  S000001938499  1cm 다이빙    5416101   \n",
       "4  9.791190e+12  S000001938499  1cm 다이빙    5416004   \n",
       "\n",
       "                                             comment  review_score  \\\n",
       "0  나 자신이 행복한 법에 대해 고민해 볼 수 있는 책이었습니다.\\r\\n책을 읽고 행복...            10   \n",
       "1                                      글귀가 마음에 와 닿아요            10   \n",
       "2          나름 젊은이가 쓴 나름 조숙한 이야기  \\r\\n가볍게 읽다 울뻔?  울었다            10   \n",
       "3  배송받고 하루만에 다읽었어요 매우공감되고 와닿는말이 많았어요 읽고나니 위로가되는책이...            10   \n",
       "4                     잘읽혀서 한번에읽었어요.  두고두고 복잡할때 읽을까해요            10   \n",
       "\n",
       "   review_like_count  \n",
       "0                 62  \n",
       "1                 60  \n",
       "2                 58  \n",
       "3                 56  \n",
       "4                 55  "
      ]
     },
     "execution_count": 58,
     "metadata": {},
     "output_type": "execute_result"
    }
   ],
   "source": [
    "df_B.head(5)"
   ]
  },
  {
   "cell_type": "code",
   "execution_count": 59,
   "id": "d0346fe3-ec9a-4b9b-84b6-ee0d78269f6b",
   "metadata": {
    "tags": []
   },
   "outputs": [],
   "source": [
    "# new_column_names1 = ['title', 'isbn', 'review_id', 'review_score','review_like_count','reviewer','comment']"
   ]
  },
  {
   "cell_type": "code",
   "execution_count": 60,
   "id": "ebcb8c13-1f8a-4efc-80ff-831b9f4a9478",
   "metadata": {
    "tags": []
   },
   "outputs": [],
   "source": [
    "new_column_names1 = [ 'isbn','title','review_score', 'review_like_count','comment','review_id']"
   ]
  },
  {
   "cell_type": "code",
   "execution_count": 61,
   "id": "f1ab635b-f1b3-4251-999f-8cfe98183514",
   "metadata": {
    "tags": []
   },
   "outputs": [],
   "source": [
    "df_A.columns = new_column_names1"
   ]
  },
  {
   "cell_type": "code",
   "execution_count": 62,
   "id": "99f52652-3678-4309-8dba-e9d5f59023be",
   "metadata": {
    "tags": []
   },
   "outputs": [
    {
     "name": "stdout",
     "output_type": "stream",
     "text": [
      "Index(['isbn', 'title', 'review_score', 'review_like_count', 'comment',\n",
      "       'review_id'],\n",
      "      dtype='object')\n",
      "Index(['isbn', 'saleCmdtid', 'title', 'review_id', 'comment', 'review_score',\n",
      "       'review_like_count'],\n",
      "      dtype='object')\n"
     ]
    }
   ],
   "source": [
    "print(df_A.columns)\n",
    "print(df_B.columns)"
   ]
  },
  {
   "cell_type": "code",
   "execution_count": null,
   "id": "62541776-55cb-46c3-9a80-50b6b86a8743",
   "metadata": {},
   "outputs": [],
   "source": [
    "df_A['review_id'] = df_A['review_id'].astype(str) + '_1'\n",
    "df_B['review_id'] = df_B['review_id'].astype(str) + '_2'"
   ]
  },
  {
   "cell_type": "code",
   "execution_count": 63,
   "id": "8d3425c8-dde0-42e5-999d-8aa66362e990",
   "metadata": {
    "tags": []
   },
   "outputs": [
    {
     "data": {
      "text/html": [
       "<div>\n",
       "<style scoped>\n",
       "    .dataframe tbody tr th:only-of-type {\n",
       "        vertical-align: middle;\n",
       "    }\n",
       "\n",
       "    .dataframe tbody tr th {\n",
       "        vertical-align: top;\n",
       "    }\n",
       "\n",
       "    .dataframe thead th {\n",
       "        text-align: right;\n",
       "    }\n",
       "</style>\n",
       "<table border=\"1\" class=\"dataframe\">\n",
       "  <thead>\n",
       "    <tr style=\"text-align: right;\">\n",
       "      <th></th>\n",
       "      <th>isbn</th>\n",
       "      <th>saleCmdtid</th>\n",
       "      <th>title</th>\n",
       "      <th>review_id</th>\n",
       "      <th>comment</th>\n",
       "      <th>review_score</th>\n",
       "      <th>review_like_count</th>\n",
       "    </tr>\n",
       "  </thead>\n",
       "  <tbody>\n",
       "    <tr>\n",
       "      <th>0</th>\n",
       "      <td>9.791190e+12</td>\n",
       "      <td>S000001938499</td>\n",
       "      <td>1cm 다이빙</td>\n",
       "      <td>5415919</td>\n",
       "      <td>나 자신이 행복한 법에 대해 고민해 볼 수 있는 책이었습니다.\\r\\n책을 읽고 행복...</td>\n",
       "      <td>10</td>\n",
       "      <td>62</td>\n",
       "    </tr>\n",
       "    <tr>\n",
       "      <th>1</th>\n",
       "      <td>9.791190e+12</td>\n",
       "      <td>S000001938499</td>\n",
       "      <td>1cm 다이빙</td>\n",
       "      <td>5416113</td>\n",
       "      <td>글귀가 마음에 와 닿아요</td>\n",
       "      <td>10</td>\n",
       "      <td>60</td>\n",
       "    </tr>\n",
       "    <tr>\n",
       "      <th>2</th>\n",
       "      <td>9.791190e+12</td>\n",
       "      <td>S000001938499</td>\n",
       "      <td>1cm 다이빙</td>\n",
       "      <td>5416037</td>\n",
       "      <td>나름 젊은이가 쓴 나름 조숙한 이야기  \\r\\n가볍게 읽다 울뻔?  울었다</td>\n",
       "      <td>10</td>\n",
       "      <td>58</td>\n",
       "    </tr>\n",
       "    <tr>\n",
       "      <th>3</th>\n",
       "      <td>9.791190e+12</td>\n",
       "      <td>S000001938499</td>\n",
       "      <td>1cm 다이빙</td>\n",
       "      <td>5416101</td>\n",
       "      <td>배송받고 하루만에 다읽었어요 매우공감되고 와닿는말이 많았어요 읽고나니 위로가되는책이...</td>\n",
       "      <td>10</td>\n",
       "      <td>56</td>\n",
       "    </tr>\n",
       "    <tr>\n",
       "      <th>4</th>\n",
       "      <td>9.791190e+12</td>\n",
       "      <td>S000001938499</td>\n",
       "      <td>1cm 다이빙</td>\n",
       "      <td>5416004</td>\n",
       "      <td>잘읽혀서 한번에읽었어요.  두고두고 복잡할때 읽을까해요</td>\n",
       "      <td>10</td>\n",
       "      <td>55</td>\n",
       "    </tr>\n",
       "  </tbody>\n",
       "</table>\n",
       "</div>"
      ],
      "text/plain": [
       "           isbn     saleCmdtid    title  review_id  \\\n",
       "0  9.791190e+12  S000001938499  1cm 다이빙    5415919   \n",
       "1  9.791190e+12  S000001938499  1cm 다이빙    5416113   \n",
       "2  9.791190e+12  S000001938499  1cm 다이빙    5416037   \n",
       "3  9.791190e+12  S000001938499  1cm 다이빙    5416101   \n",
       "4  9.791190e+12  S000001938499  1cm 다이빙    5416004   \n",
       "\n",
       "                                             comment  review_score  \\\n",
       "0  나 자신이 행복한 법에 대해 고민해 볼 수 있는 책이었습니다.\\r\\n책을 읽고 행복...            10   \n",
       "1                                      글귀가 마음에 와 닿아요            10   \n",
       "2          나름 젊은이가 쓴 나름 조숙한 이야기  \\r\\n가볍게 읽다 울뻔?  울었다            10   \n",
       "3  배송받고 하루만에 다읽었어요 매우공감되고 와닿는말이 많았어요 읽고나니 위로가되는책이...            10   \n",
       "4                     잘읽혀서 한번에읽었어요.  두고두고 복잡할때 읽을까해요            10   \n",
       "\n",
       "   review_like_count  \n",
       "0                 62  \n",
       "1                 60  \n",
       "2                 58  \n",
       "3                 56  \n",
       "4                 55  "
      ]
     },
     "execution_count": 63,
     "metadata": {},
     "output_type": "execute_result"
    }
   ],
   "source": [
    "df_all = pd.concat([df_B, df_A],ignore_index=True)\n",
    "df_all.head()"
   ]
  },
  {
   "cell_type": "code",
   "execution_count": null,
   "id": "1f092af7-43b3-44b2-ad2c-31d1bac90ac1",
   "metadata": {},
   "outputs": [],
   "source": []
  },
  {
   "cell_type": "code",
   "execution_count": 64,
   "id": "74bbedf1-253b-45e6-83ce-746889fbf7f1",
   "metadata": {
    "tags": []
   },
   "outputs": [
    {
     "name": "stdout",
     "output_type": "stream",
     "text": [
      "161727 105318 56409\n"
     ]
    }
   ],
   "source": [
    "print(len(df_all), len(df_A), len(df_B))"
   ]
  },
  {
   "cell_type": "code",
   "execution_count": 65,
   "id": "0c89343a-fd8e-4973-97e6-bf149a3abdd4",
   "metadata": {
    "tags": []
   },
   "outputs": [],
   "source": [
    "df_all.to_csv('ak_reviews2_utf8.csv', encoding='utf8', index = False)"
   ]
  },
  {
   "cell_type": "code",
   "execution_count": 66,
   "id": "b7a68bd8-8f43-4aa9-b71a-ab16b4b167fb",
   "metadata": {
    "tags": []
   },
   "outputs": [
    {
     "data": {
      "text/html": [
       "<div>\n",
       "<style scoped>\n",
       "    .dataframe tbody tr th:only-of-type {\n",
       "        vertical-align: middle;\n",
       "    }\n",
       "\n",
       "    .dataframe tbody tr th {\n",
       "        vertical-align: top;\n",
       "    }\n",
       "\n",
       "    .dataframe thead th {\n",
       "        text-align: right;\n",
       "    }\n",
       "</style>\n",
       "<table border=\"1\" class=\"dataframe\">\n",
       "  <thead>\n",
       "    <tr style=\"text-align: right;\">\n",
       "      <th></th>\n",
       "      <th>isbn</th>\n",
       "      <th>saleCmdtid</th>\n",
       "      <th>title</th>\n",
       "      <th>review_id</th>\n",
       "      <th>comment</th>\n",
       "      <th>review_score</th>\n",
       "      <th>review_like_count</th>\n",
       "    </tr>\n",
       "  </thead>\n",
       "  <tbody>\n",
       "    <tr>\n",
       "      <th>0</th>\n",
       "      <td>9.791190e+12</td>\n",
       "      <td>S000001938499</td>\n",
       "      <td>1cm 다이빙</td>\n",
       "      <td>5415919</td>\n",
       "      <td>나 자신이 행복한 법에 대해 고민해 볼 수 있는 책이었습니다.\\r\\n책을 읽고 행복...</td>\n",
       "      <td>10</td>\n",
       "      <td>62</td>\n",
       "    </tr>\n",
       "    <tr>\n",
       "      <th>1</th>\n",
       "      <td>9.791190e+12</td>\n",
       "      <td>S000001938499</td>\n",
       "      <td>1cm 다이빙</td>\n",
       "      <td>5416113</td>\n",
       "      <td>글귀가 마음에 와 닿아요</td>\n",
       "      <td>10</td>\n",
       "      <td>60</td>\n",
       "    </tr>\n",
       "    <tr>\n",
       "      <th>2</th>\n",
       "      <td>9.791190e+12</td>\n",
       "      <td>S000001938499</td>\n",
       "      <td>1cm 다이빙</td>\n",
       "      <td>5416037</td>\n",
       "      <td>나름 젊은이가 쓴 나름 조숙한 이야기  \\r\\n가볍게 읽다 울뻔?  울었다</td>\n",
       "      <td>10</td>\n",
       "      <td>58</td>\n",
       "    </tr>\n",
       "    <tr>\n",
       "      <th>3</th>\n",
       "      <td>9.791190e+12</td>\n",
       "      <td>S000001938499</td>\n",
       "      <td>1cm 다이빙</td>\n",
       "      <td>5416101</td>\n",
       "      <td>배송받고 하루만에 다읽었어요 매우공감되고 와닿는말이 많았어요 읽고나니 위로가되는책이...</td>\n",
       "      <td>10</td>\n",
       "      <td>56</td>\n",
       "    </tr>\n",
       "    <tr>\n",
       "      <th>4</th>\n",
       "      <td>9.791190e+12</td>\n",
       "      <td>S000001938499</td>\n",
       "      <td>1cm 다이빙</td>\n",
       "      <td>5416004</td>\n",
       "      <td>잘읽혀서 한번에읽었어요.  두고두고 복잡할때 읽을까해요</td>\n",
       "      <td>10</td>\n",
       "      <td>55</td>\n",
       "    </tr>\n",
       "  </tbody>\n",
       "</table>\n",
       "</div>"
      ],
      "text/plain": [
       "           isbn     saleCmdtid    title  review_id  \\\n",
       "0  9.791190e+12  S000001938499  1cm 다이빙    5415919   \n",
       "1  9.791190e+12  S000001938499  1cm 다이빙    5416113   \n",
       "2  9.791190e+12  S000001938499  1cm 다이빙    5416037   \n",
       "3  9.791190e+12  S000001938499  1cm 다이빙    5416101   \n",
       "4  9.791190e+12  S000001938499  1cm 다이빙    5416004   \n",
       "\n",
       "                                             comment  review_score  \\\n",
       "0  나 자신이 행복한 법에 대해 고민해 볼 수 있는 책이었습니다.\\r\\n책을 읽고 행복...            10   \n",
       "1                                      글귀가 마음에 와 닿아요            10   \n",
       "2          나름 젊은이가 쓴 나름 조숙한 이야기  \\r\\n가볍게 읽다 울뻔?  울었다            10   \n",
       "3  배송받고 하루만에 다읽었어요 매우공감되고 와닿는말이 많았어요 읽고나니 위로가되는책이...            10   \n",
       "4                     잘읽혀서 한번에읽었어요.  두고두고 복잡할때 읽을까해요            10   \n",
       "\n",
       "   review_like_count  \n",
       "0                 62  \n",
       "1                 60  \n",
       "2                 58  \n",
       "3                 56  \n",
       "4                 55  "
      ]
     },
     "execution_count": 66,
     "metadata": {},
     "output_type": "execute_result"
    }
   ],
   "source": [
    "df_all.head(5)"
   ]
  },
  {
   "cell_type": "code",
   "execution_count": null,
   "id": "ceb8ec58-852a-484b-a444-690355021630",
   "metadata": {},
   "outputs": [],
   "source": []
  }
 ],
 "metadata": {
  "kernelspec": {
   "display_name": "Python 3 (ipykernel)",
   "language": "python",
   "name": "python3"
  },
  "language_info": {
   "codemirror_mode": {
    "name": "ipython",
    "version": 3
   },
   "file_extension": ".py",
   "mimetype": "text/x-python",
   "name": "python",
   "nbconvert_exporter": "python",
   "pygments_lexer": "ipython3",
   "version": "3.11.5"
  }
 },
 "nbformat": 4,
 "nbformat_minor": 5
}
